{
 "cells": [
  {
   "cell_type": "code",
   "execution_count": 7,
   "id": "a2c0cb2e",
   "metadata": {},
   "outputs": [
    {
     "name": "stderr",
     "output_type": "stream",
     "text": [
      "[nltk_data] Downloading package words to /home/jon/nltk_data...\n",
      "[nltk_data]   Package words is already up-to-date!\n",
      "[nltk_data] Downloading package wordnet to /home/jon/nltk_data...\n",
      "[nltk_data]   Package wordnet is already up-to-date!\n"
     ]
    },
    {
     "data": {
      "text/plain": [
       "True"
      ]
     },
     "execution_count": 7,
     "metadata": {},
     "output_type": "execute_result"
    }
   ],
   "source": [
    "import numpy as np\n",
    "import pandas as pd\n",
    "import re\n",
    "import matplotlib.pyplot as plt\n",
    "import sklearn\n",
    "from sklearn import feature_extraction, linear_model, model_selection, preprocessing\n",
    "from sklearn.feature_extraction.text import CountVectorizer, TfidfVectorizer\n",
    "from sklearn.pipeline import Pipeline, FeatureUnion\n",
    "from sklearn.compose import ColumnTransformer\n",
    "from sklearn.svm import LinearSVC\n",
    "from sklearn.neighbors import KNeighborsClassifier\n",
    "import nltk\n",
    "from nltk.corpus import stopwords, words\n",
    "from nltk.metrics.distance import jaccard_distance\n",
    "from scipy import sparse\n",
    "from nltk.util import ngrams\n",
    "from nltk.stem.snowball import SnowballStemmer\n",
    "nltk.download('words')\n",
    "nltk.download('wordnet')"
   ]
  },
  {
   "cell_type": "code",
   "execution_count": 119,
   "id": "f5f66889",
   "metadata": {},
   "outputs": [],
   "source": [
    "train_df = pd.read_csv(\"train.csv\")\n",
    "test_df = pd.read_csv(\"test.csv\")"
   ]
  },
  {
   "cell_type": "code",
   "execution_count": 120,
   "id": "efee319a",
   "metadata": {},
   "outputs": [],
   "source": [
    "train_df[\"mentions_count\"] = train_df[\"text\"].apply(lambda x: len([c for c in x if c==\"@\"]))\n",
    "test_df[\"mentions_count\"] = test_df[\"text\"].apply(lambda x: len([c for c in x if c==\"@\"]))\n",
    "train_df[\"hashtag_count\"] = train_df[\"text\"].apply(lambda x: len([c for c in x if c==\"#\"]))\n",
    "test_df[\"hashtag_count\"] = test_df[\"text\"].apply(lambda x: len([c for c in x if c==\"#\"]))\n",
    "train_df[\"exclamation_count\"] = train_df[\"text\"].apply(lambda x: len([c for c in x if c==\"!\"]))\n",
    "test_df[\"exclamation_count\"] = test_df[\"text\"].apply(lambda x: len([c for c in x if c==\"!\"]))\n",
    "train_df[\"word_count\"] = train_df[\"text\"].apply(lambda x: len(x.split()))\n",
    "test_df[\"word_count\"] = test_df[\"text\"].apply(lambda x: len(x.split()))\n",
    "train_df[\"character_count\"] = train_df[\"text\"].apply(lambda x: len(x))\n",
    "test_df[\"character_count\"] = test_df[\"text\"].apply(lambda x: len(x))\n",
    "train_df[\"mean_word_length\"] = train_df[\"text\"].apply(lambda x: np.mean([len(f) for f in x.split()]))\n",
    "test_df[\"mean_word_length\"] = test_df[\"text\"].apply(lambda x: np.mean([len(f) for f in x.split()]))\n",
    "train_df[\"has_link\"] = train_df[\"text\"].apply(lambda x: int(bool(re.search(r'https?',x))))\n",
    "test_df[\"has_link\"] = test_df[\"text\"].apply(lambda x: int(bool(re.search(r'https?',x))))"
   ]
  },
  {
   "cell_type": "code",
   "execution_count": 10,
   "id": "174e6127",
   "metadata": {},
   "outputs": [
    {
     "data": {
      "text/html": [
       "<div>\n",
       "<style scoped>\n",
       "    .dataframe tbody tr th:only-of-type {\n",
       "        vertical-align: middle;\n",
       "    }\n",
       "\n",
       "    .dataframe tbody tr th {\n",
       "        vertical-align: top;\n",
       "    }\n",
       "\n",
       "    .dataframe thead th {\n",
       "        text-align: right;\n",
       "    }\n",
       "</style>\n",
       "<table border=\"1\" class=\"dataframe\">\n",
       "  <thead>\n",
       "    <tr style=\"text-align: right;\">\n",
       "      <th></th>\n",
       "      <th>id</th>\n",
       "      <th>keyword</th>\n",
       "      <th>location</th>\n",
       "      <th>text</th>\n",
       "      <th>target</th>\n",
       "      <th>mentions_count</th>\n",
       "      <th>hashtag_count</th>\n",
       "      <th>exclamation_count</th>\n",
       "      <th>word_count</th>\n",
       "      <th>character_count</th>\n",
       "      <th>mean_word_length</th>\n",
       "      <th>has_link</th>\n",
       "    </tr>\n",
       "  </thead>\n",
       "  <tbody>\n",
       "    <tr>\n",
       "      <th>15</th>\n",
       "      <td>23</td>\n",
       "      <td>NaN</td>\n",
       "      <td>NaN</td>\n",
       "      <td>What's up man?</td>\n",
       "      <td>0</td>\n",
       "      <td>0</td>\n",
       "      <td>0</td>\n",
       "      <td>0</td>\n",
       "      <td>3</td>\n",
       "      <td>14</td>\n",
       "      <td>4.000000</td>\n",
       "      <td>0</td>\n",
       "    </tr>\n",
       "    <tr>\n",
       "      <th>16</th>\n",
       "      <td>24</td>\n",
       "      <td>NaN</td>\n",
       "      <td>NaN</td>\n",
       "      <td>I love fruits</td>\n",
       "      <td>0</td>\n",
       "      <td>0</td>\n",
       "      <td>0</td>\n",
       "      <td>0</td>\n",
       "      <td>3</td>\n",
       "      <td>13</td>\n",
       "      <td>3.666667</td>\n",
       "      <td>0</td>\n",
       "    </tr>\n",
       "    <tr>\n",
       "      <th>17</th>\n",
       "      <td>25</td>\n",
       "      <td>NaN</td>\n",
       "      <td>NaN</td>\n",
       "      <td>Summer is lovely</td>\n",
       "      <td>0</td>\n",
       "      <td>0</td>\n",
       "      <td>0</td>\n",
       "      <td>0</td>\n",
       "      <td>3</td>\n",
       "      <td>16</td>\n",
       "      <td>4.666667</td>\n",
       "      <td>0</td>\n",
       "    </tr>\n",
       "    <tr>\n",
       "      <th>18</th>\n",
       "      <td>26</td>\n",
       "      <td>NaN</td>\n",
       "      <td>NaN</td>\n",
       "      <td>My car is so fast</td>\n",
       "      <td>0</td>\n",
       "      <td>0</td>\n",
       "      <td>0</td>\n",
       "      <td>0</td>\n",
       "      <td>5</td>\n",
       "      <td>17</td>\n",
       "      <td>2.600000</td>\n",
       "      <td>0</td>\n",
       "    </tr>\n",
       "    <tr>\n",
       "      <th>19</th>\n",
       "      <td>28</td>\n",
       "      <td>NaN</td>\n",
       "      <td>NaN</td>\n",
       "      <td>What a goooooooaaaaaal!!!!!!</td>\n",
       "      <td>0</td>\n",
       "      <td>0</td>\n",
       "      <td>0</td>\n",
       "      <td>6</td>\n",
       "      <td>3</td>\n",
       "      <td>28</td>\n",
       "      <td>8.666667</td>\n",
       "      <td>0</td>\n",
       "    </tr>\n",
       "  </tbody>\n",
       "</table>\n",
       "</div>"
      ],
      "text/plain": [
       "    id keyword location                          text  target  mentions_count  \\\n",
       "15  23     NaN      NaN                What's up man?       0               0   \n",
       "16  24     NaN      NaN                 I love fruits       0               0   \n",
       "17  25     NaN      NaN              Summer is lovely       0               0   \n",
       "18  26     NaN      NaN             My car is so fast       0               0   \n",
       "19  28     NaN      NaN  What a goooooooaaaaaal!!!!!!       0               0   \n",
       "\n",
       "    hashtag_count  exclamation_count  word_count  character_count  \\\n",
       "15              0                  0           3               14   \n",
       "16              0                  0           3               13   \n",
       "17              0                  0           3               16   \n",
       "18              0                  0           5               17   \n",
       "19              0                  6           3               28   \n",
       "\n",
       "    mean_word_length  has_link  \n",
       "15          4.000000         0  \n",
       "16          3.666667         0  \n",
       "17          4.666667         0  \n",
       "18          2.600000         0  \n",
       "19          8.666667         0  "
      ]
     },
     "metadata": {},
     "output_type": "display_data"
    },
    {
     "data": {
      "text/html": [
       "<div>\n",
       "<style scoped>\n",
       "    .dataframe tbody tr th:only-of-type {\n",
       "        vertical-align: middle;\n",
       "    }\n",
       "\n",
       "    .dataframe tbody tr th {\n",
       "        vertical-align: top;\n",
       "    }\n",
       "\n",
       "    .dataframe thead th {\n",
       "        text-align: right;\n",
       "    }\n",
       "</style>\n",
       "<table border=\"1\" class=\"dataframe\">\n",
       "  <thead>\n",
       "    <tr style=\"text-align: right;\">\n",
       "      <th></th>\n",
       "      <th>id</th>\n",
       "      <th>keyword</th>\n",
       "      <th>location</th>\n",
       "      <th>text</th>\n",
       "      <th>target</th>\n",
       "      <th>mentions_count</th>\n",
       "      <th>hashtag_count</th>\n",
       "      <th>exclamation_count</th>\n",
       "      <th>word_count</th>\n",
       "      <th>character_count</th>\n",
       "      <th>mean_word_length</th>\n",
       "      <th>has_link</th>\n",
       "    </tr>\n",
       "  </thead>\n",
       "  <tbody>\n",
       "    <tr>\n",
       "      <th>0</th>\n",
       "      <td>1</td>\n",
       "      <td>NaN</td>\n",
       "      <td>NaN</td>\n",
       "      <td>Our Deeds are the Reason of this #earthquake May ALLAH Forgive us all</td>\n",
       "      <td>1</td>\n",
       "      <td>0</td>\n",
       "      <td>1</td>\n",
       "      <td>0</td>\n",
       "      <td>13</td>\n",
       "      <td>69</td>\n",
       "      <td>4.384615</td>\n",
       "      <td>0</td>\n",
       "    </tr>\n",
       "    <tr>\n",
       "      <th>1</th>\n",
       "      <td>4</td>\n",
       "      <td>NaN</td>\n",
       "      <td>NaN</td>\n",
       "      <td>Forest fire near La Ronge Sask. Canada</td>\n",
       "      <td>1</td>\n",
       "      <td>0</td>\n",
       "      <td>0</td>\n",
       "      <td>0</td>\n",
       "      <td>7</td>\n",
       "      <td>38</td>\n",
       "      <td>4.571429</td>\n",
       "      <td>0</td>\n",
       "    </tr>\n",
       "    <tr>\n",
       "      <th>2</th>\n",
       "      <td>5</td>\n",
       "      <td>NaN</td>\n",
       "      <td>NaN</td>\n",
       "      <td>All residents asked to 'shelter in place' are being notified by officers. No other evacuation or...</td>\n",
       "      <td>1</td>\n",
       "      <td>0</td>\n",
       "      <td>0</td>\n",
       "      <td>0</td>\n",
       "      <td>22</td>\n",
       "      <td>133</td>\n",
       "      <td>5.090909</td>\n",
       "      <td>0</td>\n",
       "    </tr>\n",
       "    <tr>\n",
       "      <th>3</th>\n",
       "      <td>6</td>\n",
       "      <td>NaN</td>\n",
       "      <td>NaN</td>\n",
       "      <td>13,000 people receive #wildfires evacuation orders in California</td>\n",
       "      <td>1</td>\n",
       "      <td>0</td>\n",
       "      <td>1</td>\n",
       "      <td>0</td>\n",
       "      <td>8</td>\n",
       "      <td>65</td>\n",
       "      <td>7.125000</td>\n",
       "      <td>0</td>\n",
       "    </tr>\n",
       "    <tr>\n",
       "      <th>4</th>\n",
       "      <td>7</td>\n",
       "      <td>NaN</td>\n",
       "      <td>NaN</td>\n",
       "      <td>Just got sent this photo from Ruby #Alaska as smoke from #wildfires pours into a school</td>\n",
       "      <td>1</td>\n",
       "      <td>0</td>\n",
       "      <td>2</td>\n",
       "      <td>0</td>\n",
       "      <td>16</td>\n",
       "      <td>88</td>\n",
       "      <td>4.500000</td>\n",
       "      <td>0</td>\n",
       "    </tr>\n",
       "  </tbody>\n",
       "</table>\n",
       "</div>"
      ],
      "text/plain": [
       "   id keyword location  \\\n",
       "0   1     NaN      NaN   \n",
       "1   4     NaN      NaN   \n",
       "2   5     NaN      NaN   \n",
       "3   6     NaN      NaN   \n",
       "4   7     NaN      NaN   \n",
       "\n",
       "                                                                                                  text  \\\n",
       "0                                Our Deeds are the Reason of this #earthquake May ALLAH Forgive us all   \n",
       "1                                                               Forest fire near La Ronge Sask. Canada   \n",
       "2  All residents asked to 'shelter in place' are being notified by officers. No other evacuation or...   \n",
       "3                                    13,000 people receive #wildfires evacuation orders in California    \n",
       "4             Just got sent this photo from Ruby #Alaska as smoke from #wildfires pours into a school    \n",
       "\n",
       "   target  mentions_count  hashtag_count  exclamation_count  word_count  \\\n",
       "0       1               0              1                  0          13   \n",
       "1       1               0              0                  0           7   \n",
       "2       1               0              0                  0          22   \n",
       "3       1               0              1                  0           8   \n",
       "4       1               0              2                  0          16   \n",
       "\n",
       "   character_count  mean_word_length  has_link  \n",
       "0               69          4.384615         0  \n",
       "1               38          4.571429         0  \n",
       "2              133          5.090909         0  \n",
       "3               65          7.125000         0  \n",
       "4               88          4.500000         0  "
      ]
     },
     "metadata": {},
     "output_type": "display_data"
    }
   ],
   "source": [
    "with pd.option_context('display.max_colwidth',100):\n",
    "    display(train_df[train_df.target == 0].head())\n",
    "    display(train_df[train_df.target == 1].head())"
   ]
  },
  {
   "cell_type": "markdown",
   "id": "f1746c8c",
   "metadata": {},
   "source": [
    "# Word lengths and word counts (and others)\n",
    "\n",
    "Simple feature which shows average length of words and number of words in a tweet"
   ]
  },
  {
   "cell_type": "code",
   "execution_count": 11,
   "id": "2d009207",
   "metadata": {},
   "outputs": [
    {
     "data": {
      "text/plain": [
       "0    2543\n",
       "1    1099\n",
       "Name: target, dtype: int64"
      ]
     },
     "execution_count": 11,
     "metadata": {},
     "output_type": "execute_result"
    }
   ],
   "source": [
    "train_df[train_df.has_link == 0][\"target\"].value_counts()"
   ]
  },
  {
   "cell_type": "code",
   "execution_count": 116,
   "id": "d30f0085",
   "metadata": {},
   "outputs": [
    {
     "data": {
      "image/png": "[encoded data removed]",
      "text/plain": [
       "<Figure size 1440x864 with 1 Axes>"
      ]
     },
     "metadata": {},
     "output_type": "display_data"
    }
   ],
   "source": [
    "plt.figure(figsize=(20,12))\n",
    "plt.title(\"tweets without link\")\n",
    "plt.pie(list(train_df[train_df.has_link == 0][\"target\"].value_counts()), labels = [\"not disaster\",\"disaster\"],colors=[\"green\",\"red\"])\n",
    "plt.savefig(\"pie1.png\",bbox_inches='tight')"
   ]
  },
  {
   "cell_type": "code",
   "execution_count": 117,
   "id": "bfc6d744",
   "metadata": {},
   "outputs": [
    {
     "data": {
      "image/png": "[encoded data removed]",
      "text/plain": [
       "<Figure size 1440x864 with 1 Axes>"
      ]
     },
     "metadata": {},
     "output_type": "display_data"
    }
   ],
   "source": [
    "plt.figure(figsize=(20,12))\n",
    "plt.title(\"tweets with link\")\n",
    "plt.pie(list(train_df[train_df.has_link == 1][\"target\"].value_counts()), labels = [\"disaster\",\"not disaster\"],colors=[\"red\",\"green\"])\n",
    "plt.savefig(\"pie2.png\",bbox_inches='tight')"
   ]
  },
  {
   "cell_type": "code",
   "execution_count": 121,
   "id": "d7f36d81",
   "metadata": {},
   "outputs": [
    {
     "data": {
      "image/png": "[encoded data removed]",
      "text/plain": [
       "<Figure size 1440x864 with 1 Axes>"
      ]
     },
     "metadata": {
      "needs_background": "light"
     },
     "output_type": "display_data"
    }
   ],
   "source": [
    "plt.figure(figsize=(20,12))\n",
    "plt.title(\"Word counts of tweets by type\")\n",
    "plt.hist(train_df[train_df.target==0][\"word_count\"],color=\"skyblue\",label=\"Not disaster tweets\")\n",
    "plt.hist(train_df[train_df.target==1][\"word_count\"],color=\"red\",label=\"Disaster tweets\")\n",
    "plt.legend()\n",
    "plt.savefig(\"word_counts.png\",bbox_inches='tight')"
   ]
  },
  {
   "cell_type": "code",
   "execution_count": 122,
   "id": "ac6af355",
   "metadata": {
    "scrolled": false
   },
   "outputs": [
    {
     "data": {
      "image/png": "[encoded data removed]",
      "text/plain": [
       "<Figure size 1440x864 with 1 Axes>"
      ]
     },
     "metadata": {
      "needs_background": "light"
     },
     "output_type": "display_data"
    }
   ],
   "source": [
    "plt.figure(figsize=(20,12))\n",
    "plt.title(\"Mean word lengths of tweets by type\")\n",
    "plt.hist(train_df[train_df.target==0][\"mean_word_length\"],color=\"skyblue\",label=\"Not disaster tweets\")\n",
    "plt.hist(train_df[train_df.target==1][\"mean_word_length\"],color=\"red\",label=\"Disaster tweets\")\n",
    "plt.legend()\n",
    "plt.savefig(\"word_lengths.png\",bbox_inches='tight')"
   ]
  },
  {
   "cell_type": "code",
   "execution_count": 123,
   "id": "15cf3477",
   "metadata": {},
   "outputs": [
    {
     "data": {
      "image/png": "[encoded data removed]",
      "text/plain": [
       "<Figure size 1440x864 with 1 Axes>"
      ]
     },
     "metadata": {
      "needs_background": "light"
     },
     "output_type": "display_data"
    }
   ],
   "source": [
    "plt.figure(figsize=(20,12))\n",
    "plt.title(\"Character counts of tweets by type\")\n",
    "plt.hist(train_df[train_df.target==0][\"character_count\"],color=\"skyblue\",label=\"Not disaster tweets\")\n",
    "plt.hist(train_df[train_df.target==1][\"character_count\"],color=\"red\",label=\"Disaster tweets\")\n",
    "plt.legend()\n",
    "plt.savefig(\"char_counts.png\",bbox_inches='tight')"
   ]
  },
  {
   "cell_type": "code",
   "execution_count": 124,
   "id": "a8d40500",
   "metadata": {},
   "outputs": [
    {
     "data": {
      "image/png": "[encoded data removed]",
      "text/plain": [
       "<Figure size 1440x864 with 1 Axes>"
      ]
     },
     "metadata": {
      "needs_background": "light"
     },
     "output_type": "display_data"
    }
   ],
   "source": [
    "plt.figure(figsize=(20,12))\n",
    "plt.title(\"Exclamation point count of tweets by type\")\n",
    "plt.hist(train_df[train_df.target==0][\"exclamation_count\"],color=\"skyblue\",label=\"Not disaster tweets\")\n",
    "plt.hist(train_df[train_df.target==1][\"exclamation_count\"],color=\"red\",label=\"Disaster tweets\")\n",
    "plt.legend()\n",
    "plt.savefig(\"exclamation_count.png\",bbox_inches='tight')"
   ]
  },
  {
   "cell_type": "code",
   "execution_count": 125,
   "id": "7df1a22e",
   "metadata": {},
   "outputs": [
    {
     "data": {
      "image/png": "[encoded data removed]",
      "text/plain": [
       "<Figure size 1440x864 with 1 Axes>"
      ]
     },
     "metadata": {
      "needs_background": "light"
     },
     "output_type": "display_data"
    }
   ],
   "source": [
    "plt.figure(figsize=(20,12))\n",
    "plt.title(\"Hashtag count of tweets by type\")\n",
    "plt.hist(train_df[train_df.target==0][\"hashtag_count\"],color=\"skyblue\",label=\"Not disaster tweets\")\n",
    "plt.hist(train_df[train_df.target==1][\"hashtag_count\"],color=\"red\",alpha=0.6,label=\"Disaster tweets\")\n",
    "plt.legend()\n",
    "plt.savefig(\"hashtags.png\",bbox_inches='tight')"
   ]
  },
  {
   "cell_type": "code",
   "execution_count": 19,
   "id": "2b95c769",
   "metadata": {},
   "outputs": [],
   "source": [
    "scoring = {'acc': 'accuracy',\n",
    "           'f1': 'f1',\n",
    "           'prec': 'precision'}"
   ]
  },
  {
   "cell_type": "code",
   "execution_count": 20,
   "id": "93e07c71",
   "metadata": {},
   "outputs": [],
   "source": [
    "classifier0 = linear_model.RidgeClassifier()\n",
    "scores = model_selection.cross_validate(classifier0,train_df[[\"has_link\",\"mean_word_length\",\"word_count\"]],train_df[\"target\"].values,cv=5,scoring=scoring)"
   ]
  },
  {
   "cell_type": "code",
   "execution_count": 21,
   "id": "5341a96f",
   "metadata": {},
   "outputs": [
    {
     "data": {
      "text/plain": [
       "{'fit_time': 0.023500633239746094,\n",
       " 'score_time': 0.004368972778320312,\n",
       " 'test_acc': 0.6264343578058037,\n",
       " 'test_f1': 0.5815389979943644,\n",
       " 'test_prec': 0.5615690998020153}"
      ]
     },
     "execution_count": 21,
     "metadata": {},
     "output_type": "execute_result"
    }
   ],
   "source": [
    "{k:np.mean(v) for k,v in scores.items()}"
   ]
  },
  {
   "cell_type": "code",
   "execution_count": 22,
   "id": "f73dca01",
   "metadata": {},
   "outputs": [
    {
     "data": {
      "text/plain": [
       "RidgeClassifier()"
      ]
     },
     "execution_count": 22,
     "metadata": {},
     "output_type": "execute_result"
    }
   ],
   "source": [
    "classifier0.fit(train_df[[\"has_link\",\"mean_word_length\",\"word_count\"]],train_df[\"target\"])"
   ]
  },
  {
   "cell_type": "code",
   "execution_count": 23,
   "id": "576abbd2",
   "metadata": {},
   "outputs": [],
   "source": [
    "submission_0 = pd.read_csv(\"sample_submission.csv\")\n",
    "submission_0[\"target\"] = classifier0.predict(test_df[[\"has_link\",\"mean_word_length\",\"word_count\"]])\n",
    "submission_0.to_csv(\"submission_0.csv\",index=False)"
   ]
  },
  {
   "cell_type": "markdown",
   "id": "afdb6e64",
   "metadata": {},
   "source": [
    "# 1. Vectorizing words\n",
    "\n",
    "Count all unique words from all training set tweets, and for each tweet, return a vector with the count number of those words.  "
   ]
  },
  {
   "cell_type": "code",
   "execution_count": 24,
   "id": "a90cffe7",
   "metadata": {},
   "outputs": [],
   "source": [
    "train_df = pd.read_csv(\"train.csv\")\n",
    "test_df = pd.read_csv(\"test.csv\")"
   ]
  },
  {
   "cell_type": "code",
   "execution_count": 25,
   "id": "0e65e30f",
   "metadata": {},
   "outputs": [],
   "source": [
    "word_vectorizer = feature_extraction.text.CountVectorizer()"
   ]
  },
  {
   "cell_type": "code",
   "execution_count": 26,
   "id": "bc1b5212",
   "metadata": {},
   "outputs": [],
   "source": [
    "english_stopwords = stopwords.words('english')\n",
    "correct_words = words.words()"
   ]
  },
  {
   "cell_type": "code",
   "execution_count": 27,
   "id": "eab56b66",
   "metadata": {},
   "outputs": [],
   "source": [
    "def remove_emoji(text):\n",
    "    #thanks, https://www.kaggle.com/mariapushkareva/nlp-disaster-tweets-with-glove-and-lstm\n",
    "    emoji_pattern = re.compile(\"[\"\n",
    "                           u\"\\U0001F600-\\U0001F64F\"  # emoticons\n",
    "                           u\"\\U0001F300-\\U0001F5FF\"  # symbols & pictographs\n",
    "                           u\"\\U0001F680-\\U0001F6FF\"  # transport & map symbols\n",
    "                           u\"\\U0001F1E0-\\U0001F1FF\"  # flags (iOS)\n",
    "                           u\"\\U00002702-\\U000027B0\"\n",
    "                           u\"\\U000024C2-\\U0001F251\"\n",
    "                           \"]+\", flags=re.UNICODE)\n",
    "    return emoji_pattern.sub(r'', text)\n",
    "\n",
    "def remove_links(text):\n",
    "    return re.sub(r'https?://\\S+','',text)"
   ]
  },
  {
   "cell_type": "code",
   "execution_count": 28,
   "id": "1f062260",
   "metadata": {},
   "outputs": [],
   "source": [
    "from textblob import Word\n",
    "\n",
    "def correct_word(word):\n",
    "    the_word = Word(word)\n",
    "    return the_word.correct()"
   ]
  },
  {
   "cell_type": "code",
   "execution_count": 29,
   "id": "21fca86f",
   "metadata": {},
   "outputs": [],
   "source": [
    "def strip(word,characters={'.',',','?','!',':',';','#','@','û_','\\'','=','>'},special_characters={'(',')','\\{','\\}','[',']'}):\n",
    "    word_ = word\n",
    "    for c in characters:\n",
    "        word_ = word_.replace(c,'')\n",
    "    for c in special_characters:\n",
    "        word_ = word_.replace(c,' ')\n",
    "    return word_"
   ]
  },
  {
   "cell_type": "code",
   "execution_count": 30,
   "id": "ba6d69c0",
   "metadata": {},
   "outputs": [],
   "source": [
    "def lemmatize(text):\n",
    "    mm0 = strip(text).lower()\n",
    "    #Correct spelling\n",
    "    mm1 = \" \".join([correct_word(word) for word in mm0.split()])\n",
    "    #Remove stopwords\n",
    "    mm2 = \" \".join([word for word in mm1.split() if word not in english_stopwords and not bool(re.match(\"^@\",word))])\n",
    "    return mm2\n",
    "    "
   ]
  },
  {
   "cell_type": "code",
   "execution_count": 31,
   "id": "c8740f10",
   "metadata": {},
   "outputs": [],
   "source": [
    "#train_df[\"text\"] = train_df[\"text\"].apply(remove_links).apply(strip)\n",
    "#test_df[\"text\"] = test_df[\"text\"].apply(remove_links).apply(strip)"
   ]
  },
  {
   "cell_type": "code",
   "execution_count": 32,
   "id": "d86357cb",
   "metadata": {},
   "outputs": [
    {
     "data": {
      "text/plain": [
       "'wildfires getting control'"
      ]
     },
     "execution_count": 32,
     "metadata": {},
     "output_type": "execute_result"
    }
   ],
   "source": [
    "lemmatize(\"These #wildfires are getting out of controll!!!\")"
   ]
  },
  {
   "cell_type": "code",
   "execution_count": 33,
   "id": "bcb15e3f",
   "metadata": {},
   "outputs": [],
   "source": [
    "train_vectors = word_vectorizer.fit_transform(train_df[\"text\"])\n",
    "test_vectors = word_vectorizer.transform(test_df[\"text\"])"
   ]
  },
  {
   "cell_type": "code",
   "execution_count": 34,
   "id": "cd9f7cf9",
   "metadata": {},
   "outputs": [
    {
     "data": {
      "text/plain": [
       "<7613x21637 sparse matrix of type '<class 'numpy.int64'>'\n",
       "\twith 111497 stored elements in Compressed Sparse Row format>"
      ]
     },
     "execution_count": 34,
     "metadata": {},
     "output_type": "execute_result"
    }
   ],
   "source": [
    "train_vectors"
   ]
  },
  {
   "cell_type": "code",
   "execution_count": 35,
   "id": "dcce0c79",
   "metadata": {},
   "outputs": [],
   "source": [
    "classifier1_ridge = linear_model.RidgeClassifier()\n",
    "scores = model_selection.cross_validate(classifier1_ridge,train_vectors,train_df[\"target\"],cv=5,scoring=scoring)"
   ]
  },
  {
   "cell_type": "code",
   "execution_count": 36,
   "id": "750c524b",
   "metadata": {},
   "outputs": [
    {
     "data": {
      "text/plain": [
       "{'fit_time': 2.426077938079834,\n",
       " 'score_time': 0.005473136901855469,\n",
       " 'test_acc': 0.6672838638036312,\n",
       " 'test_f1': 0.571038069032355,\n",
       " 'test_prec': 0.6420542763623762}"
      ]
     },
     "execution_count": 36,
     "metadata": {},
     "output_type": "execute_result"
    }
   ],
   "source": [
    "{k:np.mean(v) for k,v in scores.items()}"
   ]
  },
  {
   "cell_type": "code",
   "execution_count": 37,
   "id": "0959da09",
   "metadata": {},
   "outputs": [
    {
     "data": {
      "text/plain": [
       "{'fit_time': 0.01660013198852539,\n",
       " 'score_time': 0.003399038314819336,\n",
       " 'test_acc': 0.7020918841452524,\n",
       " 'test_f1': 0.5947255945460054,\n",
       " 'test_prec': 0.7145537366191025}"
      ]
     },
     "execution_count": 37,
     "metadata": {},
     "output_type": "execute_result"
    }
   ],
   "source": [
    "{'fit_time': 0.01660013198852539,\n",
    " 'score_time': 0.003399038314819336,\n",
    " 'test_acc': 0.7020918841452524,\n",
    " 'test_f1': 0.5947255945460054,\n",
    " 'test_prec': 0.7145537366191025}"
   ]
  },
  {
   "cell_type": "code",
   "execution_count": 38,
   "id": "b0f13cd2",
   "metadata": {},
   "outputs": [
    {
     "data": {
      "text/plain": [
       "RidgeClassifier()"
      ]
     },
     "execution_count": 38,
     "metadata": {},
     "output_type": "execute_result"
    }
   ],
   "source": [
    "classifier1_ridge.fit(train_vectors,train_df[\"target\"])"
   ]
  },
  {
   "cell_type": "code",
   "execution_count": 39,
   "id": "34ed3966",
   "metadata": {},
   "outputs": [],
   "source": [
    "submission_1 = pd.read_csv(\"sample_submission.csv\")\n",
    "submission_1[\"target\"] = classifier1_ridge.predict(test_vectors)"
   ]
  },
  {
   "cell_type": "code",
   "execution_count": 40,
   "id": "95ad1005",
   "metadata": {},
   "outputs": [],
   "source": [
    "submission_1.to_csv(\"submission_1.csv\",index=False)"
   ]
  },
  {
   "cell_type": "markdown",
   "id": "a48a80b9",
   "metadata": {},
   "source": [
    "# 2. N-gram analysis"
   ]
  },
  {
   "cell_type": "code",
   "execution_count": 41,
   "id": "7cf7a4a6",
   "metadata": {},
   "outputs": [],
   "source": [
    "model_1 = feature_extraction.text.CountVectorizer(ngram_range=(1,3),max_features=140)\n",
    "train_text_1 = model_1.fit_transform(train_df[\"text\"])\n",
    "test_text_1 = model_1.transform(test_df[\"text\"])"
   ]
  },
  {
   "cell_type": "code",
   "execution_count": 42,
   "id": "6acb6050",
   "metadata": {},
   "outputs": [],
   "source": [
    "#print(len(test_text_2.toarray()))\n",
    "#print(len(test_text_1.toarray()))\n",
    "#train_text_1"
   ]
  },
  {
   "cell_type": "code",
   "execution_count": 43,
   "id": "a1b3bf86",
   "metadata": {},
   "outputs": [],
   "source": [
    "classifier1_ridge = linear_model.RidgeClassifier()\n",
    "scores = model_selection.cross_validate(classifier1_ridge,train_text_1,train_df[\"target\"],cv=5,scoring=scoring)"
   ]
  },
  {
   "cell_type": "code",
   "execution_count": 44,
   "id": "3889730b",
   "metadata": {},
   "outputs": [
    {
     "data": {
      "text/plain": [
       "{'fit_time': 0.023810291290283205,\n",
       " 'score_time': 0.0040737628936767575,\n",
       " 'test_acc': 0.706821207537858,\n",
       " 'test_f1': 0.6117784604329537,\n",
       " 'test_prec': 0.7084630111071554}"
      ]
     },
     "execution_count": 44,
     "metadata": {},
     "output_type": "execute_result"
    }
   ],
   "source": [
    "{k:np.mean(v) for k,v in scores.items()}"
   ]
  },
  {
   "cell_type": "code",
   "execution_count": 45,
   "id": "f7045777",
   "metadata": {},
   "outputs": [],
   "source": [
    "classifier1_ridge.fit(train_text_1,train_df[\"target\"])\n",
    "submission_2 = pd.read_csv(\"sample_submission.csv\")\n",
    "submission_2[\"target\"] = classifier1_ridge.predict(test_text_1)\n",
    "submission_2.to_csv(\"submission_ngrams.csv\",index=False)"
   ]
  },
  {
   "cell_type": "code",
   "execution_count": 46,
   "id": "823af39c",
   "metadata": {},
   "outputs": [
    {
     "data": {
      "text/plain": [
       "{'fit_time': 0.018644332885742188,\n",
       " 'score_time': 0.002754974365234375,\n",
       " 'test_acc': 0.7080025677241559,\n",
       " 'test_f1': 0.6120115524617807,\n",
       " 'test_prec': 0.7116133555231692}"
      ]
     },
     "execution_count": 46,
     "metadata": {},
     "output_type": "execute_result"
    }
   ],
   "source": [
    "{'fit_time': 0.018644332885742188,\n",
    " 'score_time': 0.002754974365234375,\n",
    " 'test_acc': 0.7080025677241559,\n",
    " 'test_f1': 0.6120115524617807,\n",
    " 'test_prec': 0.7116133555231692}"
   ]
  },
  {
   "cell_type": "markdown",
   "id": "9e520ef1",
   "metadata": {},
   "source": [
    "# N-grams and other features"
   ]
  },
  {
   "cell_type": "code",
   "execution_count": 47,
   "id": "90dbab9d",
   "metadata": {},
   "outputs": [],
   "source": [
    "train_df = pd.read_csv(\"train.csv\")\n",
    "test_df = pd.read_csv(\"test.csv\")"
   ]
  },
  {
   "cell_type": "code",
   "execution_count": 48,
   "id": "96998ccf",
   "metadata": {},
   "outputs": [],
   "source": [
    "def word_with_number(word):\n",
    "    if word.isdigit():\n",
    "        return \"number\"\n",
    "    else:\n",
    "        return word"
   ]
  },
  {
   "cell_type": "code",
   "execution_count": 49,
   "id": "0365845c",
   "metadata": {},
   "outputs": [],
   "source": [
    "train_df[\"exclamation_count\"] = train_df[\"text\"].apply(lambda x: len([c for c in x if c==\"!\"]))\n",
    "test_df[\"exclamation_count\"] = test_df[\"text\"].apply(lambda x: len([c for c in x if c==\"!\"]))\n",
    "train_df[\"has_link\"] = train_df[\"text\"].apply(lambda x: int(bool(re.search(r'https?',x))))\n",
    "test_df[\"has_link\"] = test_df[\"text\"].apply(lambda x: int(bool(re.search(r'https?',x))))\n",
    "train_df[\"text\"] = train_df[\"text\"].apply(remove_links).apply(strip)\n",
    "test_df[\"text\"] = test_df[\"text\"].apply(remove_links).apply(strip)\n",
    "train_df[\"text\"] = train_df[\"text\"].apply(lambda x: \" \".join(word_with_number(word).lower() for word in x.split()))\n",
    "test_df[\"text\"] = test_df[\"text\"].apply(lambda x: \" \".join(word_with_number(word).lower() for word in x.split()))"
   ]
  },
  {
   "cell_type": "code",
   "execution_count": 50,
   "id": "d34139b0",
   "metadata": {},
   "outputs": [
    {
     "data": {
      "text/plain": [
       "0       our deeds are the reason of this earthquake ma...\n",
       "1                   forest fire near la ronge sask canada\n",
       "2       all residents asked to shelter in place are be...\n",
       "3       number people receive wildfires evacuation ord...\n",
       "4       just got sent this photo from ruby alaska as s...\n",
       "                              ...                        \n",
       "7608    two giant cranes holding a bridge collapse int...\n",
       "7609    aria_ahrary thetawniest the out of control wil...\n",
       "7610              m194 number utc 5km s of volcano hawaii\n",
       "7611    police investigating after an e-bike collided ...\n",
       "7612    the latest more homes razed by northern califo...\n",
       "Name: text, Length: 7613, dtype: object"
      ]
     },
     "execution_count": 50,
     "metadata": {},
     "output_type": "execute_result"
    }
   ],
   "source": [
    "train_df[\"text\"]"
   ]
  },
  {
   "cell_type": "code",
   "execution_count": 51,
   "id": "d77532d2",
   "metadata": {},
   "outputs": [],
   "source": [
    "def merge_features(array,new_feature):\n",
    "    a = pd.DataFrame(array)\n",
    "    a = pd.concat([a,new_feature],axis=1)\n",
    "    return a.values"
   ]
  },
  {
   "cell_type": "code",
   "execution_count": 52,
   "id": "9763c1b5",
   "metadata": {},
   "outputs": [],
   "source": [
    "#vector_model = feature_extraction.text.CountVectorizer(ngram_range=(1,3),max_features=140)\n",
    "tfid_model = TfidfVectorizer(ngram_range=(1,3),max_features=140)"
   ]
  },
  {
   "cell_type": "code",
   "execution_count": 53,
   "id": "2f35ae36",
   "metadata": {},
   "outputs": [],
   "source": [
    "train_vectors = tfid_model.fit_transform(train_df[\"text\"]).toarray()\n",
    "test_vectors = tfid_model.transform(test_df[\"text\"]).toarray()"
   ]
  },
  {
   "cell_type": "code",
   "execution_count": 54,
   "id": "0e7f114b",
   "metadata": {},
   "outputs": [],
   "source": [
    "train_vectors = merge_features(train_vectors,train_df[[\"has_link\",\"exclamation_count\"]])\n",
    "test_vectors = merge_features(test_vectors,test_df[[\"has_link\",\"exclamation_count\"]])"
   ]
  },
  {
   "cell_type": "code",
   "execution_count": 55,
   "id": "6ccafa5e",
   "metadata": {},
   "outputs": [],
   "source": [
    "classifier = linear_model.RidgeClassifier()\n",
    "#classifier = LinearSVC()\n",
    "#classifier = KNeighborsClassifier(n_neighbors=3,weights='distance')\n",
    "scores = model_selection.cross_validate(classifier,train_vectors,train_df[\"target\"],cv=5,scoring=scoring)"
   ]
  },
  {
   "cell_type": "code",
   "execution_count": 56,
   "id": "7f125808",
   "metadata": {},
   "outputs": [
    {
     "data": {
      "text/plain": [
       "{'fit_time': 0.20725197792053224,\n",
       " 'score_time': 0.023931884765625,\n",
       " 'test_acc': 0.7129974641998338,\n",
       " 'test_f1': 0.6230161863715407,\n",
       " 'test_prec': 0.7126765309348498}"
      ]
     },
     "execution_count": 56,
     "metadata": {},
     "output_type": "execute_result"
    }
   ],
   "source": [
    "{k:np.mean(v) for k,v in scores.items()}"
   ]
  },
  {
   "cell_type": "code",
   "execution_count": 57,
   "id": "ebed6753",
   "metadata": {},
   "outputs": [
    {
     "data": {
      "text/plain": [
       "{'fit_time': 0.03480019569396973,\n",
       " 'score_time': 0.005400609970092773,\n",
       " 'test_acc': 0.7128660581551557,\n",
       " 'test_f1': 0.6229085576284399,\n",
       " 'test_prec': 0.7123946504894322}"
      ]
     },
     "execution_count": 57,
     "metadata": {},
     "output_type": "execute_result"
    }
   ],
   "source": [
    "{'fit_time': 0.03480019569396973,\n",
    " 'score_time': 0.005400609970092773,\n",
    " 'test_acc': 0.7128660581551557,\n",
    " 'test_f1': 0.6229085576284399,\n",
    " 'test_prec': 0.7123946504894322}"
   ]
  },
  {
   "cell_type": "code",
   "execution_count": 58,
   "id": "180db838",
   "metadata": {},
   "outputs": [],
   "source": [
    "classifier.fit(train_vectors,train_df[\"target\"])\n",
    "submission_3 = pd.read_csv(\"sample_submission.csv\")\n",
    "submission_3[\"target\"] = classifier.predict(test_vectors)\n",
    "submission_3.to_csv(\"submission_ngrams_plus.csv\",index=False)"
   ]
  },
  {
   "cell_type": "markdown",
   "id": "d4ceac90",
   "metadata": {},
   "source": [
    "# N-grams visual analysis"
   ]
  },
  {
   "cell_type": "code",
   "execution_count": 59,
   "id": "9460b19c",
   "metadata": {},
   "outputs": [],
   "source": [
    "def get_ngrams_dataframe(X,to_from,max_features=10000):\n",
    "    vec = feature_extraction.text.CountVectorizer(ngram_range=(to_from[0],to_from[1]),max_features=max_features,stop_words=\"english\").fit(X)\n",
    "    bag_of_words = vec.transform(X)\n",
    "    sum_words = bag_of_words.sum(axis = 0)\n",
    "    words_freq = [(word, sum_words[0,i]) for word,i in vec.vocabulary_.items()]\n",
    "    words_freq = sorted(words_freq, key = lambda x: x[1],reverse=True)\n",
    "    grams_df = pd.DataFrame(words_freq)\n",
    "    grams_df.columns=[\"n_gram\",\"frequency\"]\n",
    "    return grams_df"
   ]
  },
  {
   "cell_type": "markdown",
   "id": "a277dd1f",
   "metadata": {},
   "source": [
    "# Categorical"
   ]
  },
  {
   "cell_type": "code",
   "execution_count": 60,
   "id": "3856db4d",
   "metadata": {},
   "outputs": [],
   "source": [
    "from nltk import WordNetLemmatizer\n",
    "from multiprocessing import Pool"
   ]
  },
  {
   "cell_type": "code",
   "execution_count": 61,
   "id": "1eb547f8",
   "metadata": {},
   "outputs": [],
   "source": [
    "wnl = WordNetLemmatizer()\n",
    "stemmer = SnowballStemmer('english')\n",
    "def lemmatize(text):\n",
    "    result = \" \".join([wnl.lemmatize(word) for word in text.split()])\n",
    "    return result\n",
    "\n",
    "def stem(text):\n",
    "    result = \" \".join([stemmer.stem(word) for word in text.split()])\n",
    "    return result\n",
    "\n",
    "def decontracted(phrase):\n",
    "    # specific\n",
    "    phrase = re.sub(r\"won't\", \"will not\", phrase)\n",
    "    phrase = re.sub(r\"can\\'t\", \"can not\", phrase)\n",
    "\n",
    "    # general\n",
    "    phrase = re.sub(r\"n\\'t\", \" not\", phrase)\n",
    "    phrase = re.sub(r\"\\'re\", \" are\", phrase)\n",
    "    phrase = re.sub(r\"\\'s\", \" is\", phrase)\n",
    "    phrase = re.sub(r\"\\'d\", \" would\", phrase)\n",
    "    phrase = re.sub(r\"\\'ll\", \" will\", phrase)\n",
    "    phrase = re.sub(r\"\\'t\", \" not\", phrase)\n",
    "    phrase = re.sub(r\"\\'ve\", \" have\", phrase)\n",
    "    phrase = re.sub(r\"\\'m\", \" am\", phrase)\n",
    "    return phrase"
   ]
  },
  {
   "cell_type": "code",
   "execution_count": 91,
   "id": "9905af81",
   "metadata": {},
   "outputs": [],
   "source": [
    "train_df = pd.read_csv(\"train.csv\")\n",
    "test_df = pd.read_csv(\"test.csv\")\n",
    "train_df[\"exclamation_count\"] = train_df[\"text\"].apply(lambda x: len([c for c in x if c==\"!\"]))\n",
    "test_df[\"exclamation_count\"] = test_df[\"text\"].apply(lambda x: len([c for c in x if c==\"!\"]))\n",
    "train_df[\"has_link\"] = train_df[\"text\"].apply(lambda x: int(bool(re.search(r'https?',x))))\n",
    "test_df[\"has_link\"] = test_df[\"text\"].apply(lambda x: int(bool(re.search(r'https?',x))))\n",
    "train_df[\"text\"] = train_df[\"text\"].apply(lambda x: x.lower()).apply(decontracted)\n",
    "test_df[\"text\"] = test_df[\"text\"].apply(lambda x: x.lower()).apply(decontracted)\n",
    "train_df[\"text\"] = train_df[\"text\"].apply(remove_links).apply(strip)\n",
    "test_df[\"text\"] = test_df[\"text\"].apply(remove_links).apply(strip)\n",
    "train_df[\"text\"] = train_df[\"text\"].apply(lambda x: \" \".join(word_with_number(word).lower() for word in x.split()))\n",
    "test_df[\"text\"] = test_df[\"text\"].apply(lambda x: \" \".join(word_with_number(word).lower() for word in x.split()))\n",
    "train_df[\"text\"] = train_df[\"text\"].apply(decontracted)\n",
    "test_df[\"text\"] = test_df[\"text\"].apply(decontracted)\n",
    "train_df[\"text\"] = train_df[\"text\"].apply(lambda x: \" \".join(word for word in x.split() if word not in english_stopwords))\n",
    "test_df[\"text\"] = test_df[\"text\"].apply(lambda x: \" \".join(word for word in x.split() if word not in english_stopwords))\n",
    "train_df[\"text\"] = train_df[\"text\"].apply(stem)\n",
    "test_df[\"text\"] = test_df[\"text\"].apply(stem)"
   ]
  },
  {
   "cell_type": "code",
   "execution_count": 92,
   "id": "7533127b",
   "metadata": {},
   "outputs": [
    {
     "data": {
      "text/html": [
       "<div>\n",
       "<style scoped>\n",
       "    .dataframe tbody tr th:only-of-type {\n",
       "        vertical-align: middle;\n",
       "    }\n",
       "\n",
       "    .dataframe tbody tr th {\n",
       "        vertical-align: top;\n",
       "    }\n",
       "\n",
       "    .dataframe thead th {\n",
       "        text-align: right;\n",
       "    }\n",
       "</style>\n",
       "<table border=\"1\" class=\"dataframe\">\n",
       "  <thead>\n",
       "    <tr style=\"text-align: right;\">\n",
       "      <th></th>\n",
       "      <th>id</th>\n",
       "      <th>keyword</th>\n",
       "      <th>location</th>\n",
       "      <th>text</th>\n",
       "      <th>target</th>\n",
       "      <th>exclamation_count</th>\n",
       "      <th>has_link</th>\n",
       "    </tr>\n",
       "  </thead>\n",
       "  <tbody>\n",
       "    <tr>\n",
       "      <th>0</th>\n",
       "      <td>1</td>\n",
       "      <td>NaN</td>\n",
       "      <td>NaN</td>\n",
       "      <td>deed reason earthquak may allah forgiv us</td>\n",
       "      <td>1</td>\n",
       "      <td>0</td>\n",
       "      <td>0</td>\n",
       "    </tr>\n",
       "    <tr>\n",
       "      <th>1</th>\n",
       "      <td>4</td>\n",
       "      <td>NaN</td>\n",
       "      <td>NaN</td>\n",
       "      <td>forest fire near la rong sask canada</td>\n",
       "      <td>1</td>\n",
       "      <td>0</td>\n",
       "      <td>0</td>\n",
       "    </tr>\n",
       "    <tr>\n",
       "      <th>2</th>\n",
       "      <td>5</td>\n",
       "      <td>NaN</td>\n",
       "      <td>NaN</td>\n",
       "      <td>resid ask ishelt place notifi offic evacu shel...</td>\n",
       "      <td>1</td>\n",
       "      <td>0</td>\n",
       "      <td>0</td>\n",
       "    </tr>\n",
       "    <tr>\n",
       "      <th>3</th>\n",
       "      <td>6</td>\n",
       "      <td>NaN</td>\n",
       "      <td>NaN</td>\n",
       "      <td>number peopl receiv wildfir evacu order califo...</td>\n",
       "      <td>1</td>\n",
       "      <td>0</td>\n",
       "      <td>0</td>\n",
       "    </tr>\n",
       "    <tr>\n",
       "      <th>4</th>\n",
       "      <td>7</td>\n",
       "      <td>NaN</td>\n",
       "      <td>NaN</td>\n",
       "      <td>got sent photo rubi alaska smoke wildfir pour ...</td>\n",
       "      <td>1</td>\n",
       "      <td>0</td>\n",
       "      <td>0</td>\n",
       "    </tr>\n",
       "    <tr>\n",
       "      <th>...</th>\n",
       "      <td>...</td>\n",
       "      <td>...</td>\n",
       "      <td>...</td>\n",
       "      <td>...</td>\n",
       "      <td>...</td>\n",
       "      <td>...</td>\n",
       "      <td>...</td>\n",
       "    </tr>\n",
       "    <tr>\n",
       "      <th>7608</th>\n",
       "      <td>10869</td>\n",
       "      <td>NaN</td>\n",
       "      <td>NaN</td>\n",
       "      <td>two giant crane hold bridg collaps nearbi home</td>\n",
       "      <td>1</td>\n",
       "      <td>0</td>\n",
       "      <td>1</td>\n",
       "    </tr>\n",
       "    <tr>\n",
       "      <th>7609</th>\n",
       "      <td>10870</td>\n",
       "      <td>NaN</td>\n",
       "      <td>NaN</td>\n",
       "      <td>aria_ahrari thetawniest control wild fire cali...</td>\n",
       "      <td>1</td>\n",
       "      <td>0</td>\n",
       "      <td>0</td>\n",
       "    </tr>\n",
       "    <tr>\n",
       "      <th>7610</th>\n",
       "      <td>10871</td>\n",
       "      <td>NaN</td>\n",
       "      <td>NaN</td>\n",
       "      <td>m194 number utc 5km volcano hawaii</td>\n",
       "      <td>1</td>\n",
       "      <td>0</td>\n",
       "      <td>1</td>\n",
       "    </tr>\n",
       "    <tr>\n",
       "      <th>7611</th>\n",
       "      <td>10872</td>\n",
       "      <td>NaN</td>\n",
       "      <td>NaN</td>\n",
       "      <td>polic investig e-bik collid car littl portug e...</td>\n",
       "      <td>1</td>\n",
       "      <td>0</td>\n",
       "      <td>0</td>\n",
       "    </tr>\n",
       "    <tr>\n",
       "      <th>7612</th>\n",
       "      <td>10873</td>\n",
       "      <td>NaN</td>\n",
       "      <td>NaN</td>\n",
       "      <td>latest home raze northern california wildfir -...</td>\n",
       "      <td>1</td>\n",
       "      <td>0</td>\n",
       "      <td>1</td>\n",
       "    </tr>\n",
       "  </tbody>\n",
       "</table>\n",
       "<p>7613 rows × 7 columns</p>\n",
       "</div>"
      ],
      "text/plain": [
       "         id keyword location  \\\n",
       "0         1     NaN      NaN   \n",
       "1         4     NaN      NaN   \n",
       "2         5     NaN      NaN   \n",
       "3         6     NaN      NaN   \n",
       "4         7     NaN      NaN   \n",
       "...     ...     ...      ...   \n",
       "7608  10869     NaN      NaN   \n",
       "7609  10870     NaN      NaN   \n",
       "7610  10871     NaN      NaN   \n",
       "7611  10872     NaN      NaN   \n",
       "7612  10873     NaN      NaN   \n",
       "\n",
       "                                                   text  target  \\\n",
       "0             deed reason earthquak may allah forgiv us       1   \n",
       "1                  forest fire near la rong sask canada       1   \n",
       "2     resid ask ishelt place notifi offic evacu shel...       1   \n",
       "3     number peopl receiv wildfir evacu order califo...       1   \n",
       "4     got sent photo rubi alaska smoke wildfir pour ...       1   \n",
       "...                                                 ...     ...   \n",
       "7608     two giant crane hold bridg collaps nearbi home       1   \n",
       "7609  aria_ahrari thetawniest control wild fire cali...       1   \n",
       "7610                 m194 number utc 5km volcano hawaii       1   \n",
       "7611  polic investig e-bik collid car littl portug e...       1   \n",
       "7612  latest home raze northern california wildfir -...       1   \n",
       "\n",
       "      exclamation_count  has_link  \n",
       "0                     0         0  \n",
       "1                     0         0  \n",
       "2                     0         0  \n",
       "3                     0         0  \n",
       "4                     0         0  \n",
       "...                 ...       ...  \n",
       "7608                  0         1  \n",
       "7609                  0         0  \n",
       "7610                  0         1  \n",
       "7611                  0         0  \n",
       "7612                  0         1  \n",
       "\n",
       "[7613 rows x 7 columns]"
      ]
     },
     "execution_count": 92,
     "metadata": {},
     "output_type": "execute_result"
    }
   ],
   "source": [
    "train_df"
   ]
  },
  {
   "cell_type": "code",
   "execution_count": 93,
   "id": "7299c44c",
   "metadata": {},
   "outputs": [],
   "source": [
    "not_disaster_ngrams = get_ngrams_dataframe(train_df[train_df.target == 0][\"text\"],(1,2),max_features=140)\n",
    "disaster_ngrams = get_ngrams_dataframe(train_df[train_df.target == 1][\"text\"],(1,2),max_features=140)"
   ]
  },
  {
   "cell_type": "code",
   "execution_count": 94,
   "id": "d8a22efb",
   "metadata": {},
   "outputs": [],
   "source": [
    "not_disaster_words = set(not_disaster_ngrams[\"n_gram\"])\n",
    "disaster_words = set(disaster_ngrams[\"n_gram\"])"
   ]
  },
  {
   "cell_type": "code",
   "execution_count": 95,
   "id": "77992ef4",
   "metadata": {},
   "outputs": [],
   "source": [
    "#categorical = disaster_words.symmetric_difference(not_disaster_words)\n",
    "categorical = disaster_words.union(not_disaster_words)\n",
    "numeric = ['exclamation_count','has_link']"
   ]
  },
  {
   "cell_type": "code",
   "execution_count": 96,
   "id": "7d46cea8",
   "metadata": {},
   "outputs": [],
   "source": [
    "categorical.update(['nsfw','dance','aftershock','zombie','fan army','ebay','armageddon','battle','game','police','girlfriend','earthquake','flood','wildfire'])\n",
    "categorical = list(categorical)"
   ]
  },
  {
   "cell_type": "code",
   "execution_count": 97,
   "id": "f8f02dff",
   "metadata": {},
   "outputs": [
    {
     "name": "stderr",
     "output_type": "stream",
     "text": [
      "/tmp/ipykernel_109165/1523942222.py:3: PerformanceWarning: DataFrame is highly fragmented.  This is usually the result of calling `frame.insert` many times, which has poor performance.  Consider using pd.concat instead.  To get a de-fragmented frame, use `newframe = frame.copy()`\n",
      "  test_df[f\"{category}\"] = test_df[\"text\"].apply(lambda x: 1 if category in x else 0)\n",
      "/tmp/ipykernel_109165/1523942222.py:2: PerformanceWarning: DataFrame is highly fragmented.  This is usually the result of calling `frame.insert` many times, which has poor performance.  Consider using pd.concat instead.  To get a de-fragmented frame, use `newframe = frame.copy()`\n",
      "  train_df[f\"{category}\"] = train_df[\"text\"].apply(lambda x: 1 if category in x else 0)\n"
     ]
    }
   ],
   "source": [
    "for category in categorical:\n",
    "    train_df[f\"{category}\"] = train_df[\"text\"].apply(lambda x: 1 if category in x else 0)\n",
    "    test_df[f\"{category}\"] = test_df[\"text\"].apply(lambda x: 1 if category in x else 0)"
   ]
  },
  {
   "cell_type": "code",
   "execution_count": 98,
   "id": "36b22dbb",
   "metadata": {},
   "outputs": [
    {
     "data": {
      "text/plain": [
       "(7613, 244)"
      ]
     },
     "execution_count": 98,
     "metadata": {},
     "output_type": "execute_result"
    }
   ],
   "source": [
    "train_df[categorical].shape"
   ]
  },
  {
   "cell_type": "code",
   "execution_count": 99,
   "id": "ba216fb7",
   "metadata": {},
   "outputs": [
    {
     "data": {
      "text/plain": [
       "{'fit_time': 0.2567569732666016,\n",
       " 'score_time': 0.02324090003967285,\n",
       " 'test_acc': 0.6488971124319781,\n",
       " 'test_f1': 0.5691260180712486,\n",
       " 'test_prec': 0.6148224563620278}"
      ]
     },
     "execution_count": 99,
     "metadata": {},
     "output_type": "execute_result"
    }
   ],
   "source": [
    "classifier = linear_model.RidgeClassifier()\n",
    "scores = model_selection.cross_validate(classifier,train_df[categorical].values,train_df[\"target\"],cv=5,scoring=scoring)\n",
    "{k:np.mean(v) for k,v in scores.items()}"
   ]
  },
  {
   "cell_type": "markdown",
   "id": "994b37ff",
   "metadata": {},
   "source": [
    "# Neural Network"
   ]
  },
  {
   "cell_type": "code",
   "execution_count": 100,
   "id": "ad887712",
   "metadata": {},
   "outputs": [],
   "source": [
    "def plot_loss(loss,val_loss):\n",
    "    plt.figure()\n",
    "    plt.plot(loss, label=\"Train\")\n",
    "    plt.plot(val_loss, label=\"Validation\")\n",
    "    plt.title(\"Loss/Accuracy\")\n",
    "    plt.xlabel(\"Epoch\")\n",
    "    plt.ylabel(\"Loss/Accuracy\")\n",
    "    #plt.ylim(0,0.01)\n",
    "    plt.legend()\n",
    "    plt.show()"
   ]
  },
  {
   "cell_type": "code",
   "execution_count": 101,
   "id": "eb8027d0",
   "metadata": {},
   "outputs": [],
   "source": [
    "from keras.models import Sequential,Functional\n",
    "from keras.layers import Dense,Input,Dropout,BatchNormalization,RNN,SimpleRNN,LSTM,GRU,Embedding,Conv1D,MaxPool1D,SpatialDropout1D,Bidirectional,Concatenate\n",
    "from keras.callbacks import EarlyStopping, ModelCheckpoint\n",
    "from keras import metrics,Model\n",
    "from keras.utils.vis_utils import plot_model\n",
    "from keras.preprocessing.sequence import pad_sequences\n",
    "from keras.preprocessing.text import Tokenizer\n",
    "from keras.initializers import Constant\n",
    "from sklearn.metrics import mean_squared_error, accuracy_score, precision_score, recall_score, f1_score"
   ]
  },
  {
   "cell_type": "code",
   "execution_count": 102,
   "id": "05d4a949",
   "metadata": {},
   "outputs": [
    {
     "name": "stderr",
     "output_type": "stream",
     "text": [
      "/tmp/ipykernel_109165/470545172.py:11: PerformanceWarning: DataFrame is highly fragmented.  This is usually the result of calling `frame.insert` many times, which has poor performance.  Consider using pd.concat instead.  To get a de-fragmented frame, use `newframe = frame.copy()`\n",
      "  test_df[\"padded_sequences\"] = pd.Series(map(lambda x: [x],padded_sequences_test)).apply(lambda x:x[0])\n"
     ]
    }
   ],
   "source": [
    "tokenizer = Tokenizer()\n",
    "tokenizer.fit_on_texts(train_df[\"text\"])\n",
    "numeric_sequences = train_df[\"text\"].apply(tokenizer.texts_to_sequences)\n",
    "numeric_sequences_test = test_df[\"text\"].apply(tokenizer.texts_to_sequences)\n",
    "numeric_sequences = numeric_sequences.apply(lambda x: [e[0] for e in x if e])\n",
    "numeric_sequences_test = numeric_sequences_test.apply(lambda x: [e[0] for e in x if e])\n",
    "max_length = max([len(a) for a in numeric_sequences])\n",
    "padded_sequences = pad_sequences(numeric_sequences,max_length,padding='post')\n",
    "padded_sequences_test = pad_sequences(numeric_sequences_test,max_length,padding='post')\n",
    "train_df[\"padded_sequences\"] = pd.Series(map(lambda x: [x],padded_sequences)).apply(lambda x:x[0])\n",
    "test_df[\"padded_sequences\"] = pd.Series(map(lambda x: [x],padded_sequences_test)).apply(lambda x:x[0])\n",
    "vocabulary_length = len(tokenizer.word_index) +1"
   ]
  },
  {
   "cell_type": "code",
   "execution_count": 103,
   "id": "ce729b64",
   "metadata": {},
   "outputs": [],
   "source": [
    "embeddings_dictionary = dict()\n",
    "embedding_dim = 200\n",
    "with open(\"glove.6B.200d.txt\") as glove_file:\n",
    "    for line in glove_file:\n",
    "        records = line.split()\n",
    "        word = records[0]\n",
    "        vector_dim = np.asarray(records[1:],dtype='float32')\n",
    "        embeddings_dictionary[word] = vector_dim"
   ]
  },
  {
   "cell_type": "code",
   "execution_count": 104,
   "id": "132c0ee0",
   "metadata": {},
   "outputs": [],
   "source": [
    "embedding_matrix = np.zeros((vocabulary_length,embedding_dim))\n",
    "for word,index in tokenizer.word_index.items():\n",
    "    embedding_vector = embeddings_dictionary.get(word)\n",
    "    if embedding_vector is not None:\n",
    "        embedding_matrix[index] = embedding_vector"
   ]
  },
  {
   "cell_type": "code",
   "execution_count": 105,
   "id": "86fa7231",
   "metadata": {},
   "outputs": [
    {
     "data": {
      "text/plain": [
       "(14578, 200)"
      ]
     },
     "execution_count": 105,
     "metadata": {},
     "output_type": "execute_result"
    }
   ],
   "source": [
    "embedding_matrix.shape"
   ]
  },
  {
   "cell_type": "code",
   "execution_count": 106,
   "id": "147a7e56",
   "metadata": {},
   "outputs": [],
   "source": [
    "def train_test(dataframe,train_share=0.7,keyword=categorical):\n",
    "    X = dataframe[keyword]\n",
    "    y = dataframe[\"target\"]\n",
    "    train_size = int(train_share*dataframe.shape[0])\n",
    "    X_train = X[0:train_size].values\n",
    "    y_train = y[0:train_size].values\n",
    "    X_test = X[train_size:].values\n",
    "    y_test = y[train_size:].values\n",
    "    return X_train,y_train,X_test,y_test"
   ]
  },
  {
   "cell_type": "code",
   "execution_count": 107,
   "id": "78fcb061",
   "metadata": {},
   "outputs": [],
   "source": [
    "def fix_because_numpy_sucks(array):\n",
    "    return np.array(list(list(e) for e in array))"
   ]
  },
  {
   "cell_type": "code",
   "execution_count": 108,
   "id": "3156c1a7",
   "metadata": {},
   "outputs": [
    {
     "data": {
      "text/plain": [
       "{'target'}"
      ]
     },
     "execution_count": 108,
     "metadata": {},
     "output_type": "execute_result"
    }
   ],
   "source": [
    "set(train_df.columns).symmetric_difference(set(test_df.columns))"
   ]
  },
  {
   "cell_type": "code",
   "execution_count": 109,
   "id": "1952e457",
   "metadata": {},
   "outputs": [],
   "source": [
    "X_train_padded,y_train,X_test_padded,y_test = train_test(train_df,train_share=0.9,keyword=\"padded_sequences\")\n",
    "#X_train,y_train,X_test,y_test = train_test(train_df)\n",
    "\n",
    "X_train_padded = fix_because_numpy_sucks(X_train_padded)\n",
    "X_test_padded = fix_because_numpy_sucks(X_test_padded)"
   ]
  },
  {
   "cell_type": "code",
   "execution_count": 110,
   "id": "57c25138",
   "metadata": {},
   "outputs": [],
   "source": [
    "actual_padded = fix_because_numpy_sucks(test_df[\"padded_sequences\"].values)\n",
    "actual_categorical = test_df[categorical+numeric].values"
   ]
  },
  {
   "cell_type": "code",
   "execution_count": 111,
   "id": "341aa388",
   "metadata": {},
   "outputs": [],
   "source": [
    "X_train_categorical,_,X_test_categorical,_ = train_test(train_df,train_share=0.9,keyword=categorical+numeric)"
   ]
  },
  {
   "cell_type": "code",
   "execution_count": 112,
   "id": "150873b0",
   "metadata": {},
   "outputs": [
    {
     "data": {
      "text/plain": [
       "array([[0, 0, 0, ..., 0, 0, 0],\n",
       "       [0, 0, 0, ..., 0, 0, 0],\n",
       "       [0, 0, 0, ..., 0, 0, 0],\n",
       "       ...,\n",
       "       [0, 0, 0, ..., 0, 1, 0],\n",
       "       [0, 0, 0, ..., 1, 0, 0],\n",
       "       [0, 0, 0, ..., 0, 0, 0]])"
      ]
     },
     "execution_count": 112,
     "metadata": {},
     "output_type": "execute_result"
    }
   ],
   "source": [
    "X_train_categorical"
   ]
  },
  {
   "cell_type": "code",
   "execution_count": 113,
   "id": "3f20ff61",
   "metadata": {
    "scrolled": true
   },
   "outputs": [
    {
     "name": "stdout",
     "output_type": "stream",
     "text": [
      "Epoch 1/200\n",
      "161/161 - 38s - loss: 0.6315 - binary_accuracy: 0.6436 - val_loss: 0.5968 - val_binary_accuracy: 0.7262\n",
      "Epoch 2/200\n",
      "161/161 - 33s - loss: 0.5425 - binary_accuracy: 0.7291 - val_loss: 0.5275 - val_binary_accuracy: 0.7350\n",
      "Epoch 3/200\n",
      "161/161 - 35s - loss: 0.5111 - binary_accuracy: 0.7443 - val_loss: 0.6661 - val_binary_accuracy: 0.6988\n",
      "Epoch 4/200\n",
      "161/161 - 36s - loss: 0.4935 - binary_accuracy: 0.7622 - val_loss: 0.6092 - val_binary_accuracy: 0.7449\n",
      "Epoch 5/200\n",
      "161/161 - 35s - loss: 0.4766 - binary_accuracy: 0.7731 - val_loss: 0.7346 - val_binary_accuracy: 0.7145\n",
      "Epoch 6/200\n",
      "161/161 - 35s - loss: 0.4639 - binary_accuracy: 0.7772 - val_loss: 0.8765 - val_binary_accuracy: 0.7081\n",
      "Epoch 7/200\n",
      "161/161 - 36s - loss: 0.4575 - binary_accuracy: 0.7818 - val_loss: 0.7942 - val_binary_accuracy: 0.7513\n",
      "Epoch 8/200\n",
      "161/161 - 35s - loss: 0.4388 - binary_accuracy: 0.7927 - val_loss: 0.7764 - val_binary_accuracy: 0.7507\n",
      "Epoch 9/200\n",
      "161/161 - 35s - loss: 0.4257 - binary_accuracy: 0.7997 - val_loss: 0.8357 - val_binary_accuracy: 0.7461\n",
      "Epoch 10/200\n",
      "161/161 - 39s - loss: 0.4173 - binary_accuracy: 0.8025 - val_loss: 0.9645 - val_binary_accuracy: 0.7420\n",
      "Epoch 11/200\n",
      "161/161 - 37s - loss: 0.3970 - binary_accuracy: 0.8165 - val_loss: 1.0937 - val_binary_accuracy: 0.7431\n",
      "Epoch 12/200\n",
      "161/161 - 35s - loss: 0.3879 - binary_accuracy: 0.8264 - val_loss: 1.1817 - val_binary_accuracy: 0.7437\n",
      "Epoch 13/200\n",
      "161/161 - 38s - loss: 0.3769 - binary_accuracy: 0.8297 - val_loss: 1.2647 - val_binary_accuracy: 0.7315\n",
      "Epoch 14/200\n",
      "161/161 - 37s - loss: 0.3601 - binary_accuracy: 0.8342 - val_loss: 1.4172 - val_binary_accuracy: 0.7361\n",
      "Epoch 15/200\n",
      "161/161 - 35s - loss: 0.3567 - binary_accuracy: 0.8390 - val_loss: 1.4628 - val_binary_accuracy: 0.7396\n",
      "Epoch 16/200\n",
      "161/161 - 35s - loss: 0.3475 - binary_accuracy: 0.8457 - val_loss: 1.4023 - val_binary_accuracy: 0.7361\n",
      "Epoch 17/200\n",
      "161/161 - 36s - loss: 0.3267 - binary_accuracy: 0.8550 - val_loss: 1.6552 - val_binary_accuracy: 0.7344\n",
      "Epoch 18/200\n",
      "161/161 - 37s - loss: 0.3222 - binary_accuracy: 0.8542 - val_loss: 1.9215 - val_binary_accuracy: 0.7239\n",
      "Epoch 19/200\n",
      "161/161 - 37s - loss: 0.3129 - binary_accuracy: 0.8610 - val_loss: 1.9369 - val_binary_accuracy: 0.7250\n",
      "Epoch 20/200\n",
      "161/161 - 37s - loss: 0.3085 - binary_accuracy: 0.8628 - val_loss: 1.9199 - val_binary_accuracy: 0.7291\n",
      "Epoch 21/200\n",
      "161/161 - 36s - loss: 0.2951 - binary_accuracy: 0.8702 - val_loss: 1.8895 - val_binary_accuracy: 0.7285\n",
      "Epoch 22/200\n",
      "161/161 - 36s - loss: 0.2869 - binary_accuracy: 0.8727 - val_loss: 2.0060 - val_binary_accuracy: 0.7332\n",
      "Epoch 23/200\n",
      "161/161 - 35s - loss: 0.2842 - binary_accuracy: 0.8780 - val_loss: 2.1667 - val_binary_accuracy: 0.7285\n",
      "Epoch 24/200\n",
      "161/161 - 39s - loss: 0.2775 - binary_accuracy: 0.8801 - val_loss: 2.0735 - val_binary_accuracy: 0.7285\n",
      "Epoch 25/200\n",
      "161/161 - 46s - loss: 0.2600 - binary_accuracy: 0.8826 - val_loss: 2.1676 - val_binary_accuracy: 0.7373\n",
      "Epoch 26/200\n",
      "161/161 - 44s - loss: 0.2597 - binary_accuracy: 0.8844 - val_loss: 2.2181 - val_binary_accuracy: 0.7297\n",
      "Epoch 27/200\n",
      "161/161 - 43s - loss: 0.2499 - binary_accuracy: 0.8955 - val_loss: 2.3917 - val_binary_accuracy: 0.7233\n",
      "Epoch 28/200\n",
      "161/161 - 46s - loss: 0.2495 - binary_accuracy: 0.8916 - val_loss: 2.7327 - val_binary_accuracy: 0.7040\n",
      "Epoch 29/200\n",
      "161/161 - 45s - loss: 0.2500 - binary_accuracy: 0.8891 - val_loss: 2.4401 - val_binary_accuracy: 0.7280\n",
      "Epoch 30/200\n",
      "161/161 - 45s - loss: 0.2373 - binary_accuracy: 0.8984 - val_loss: 2.4854 - val_binary_accuracy: 0.7320\n",
      "Epoch 31/200\n",
      "161/161 - 44s - loss: 0.2398 - binary_accuracy: 0.8935 - val_loss: 2.5396 - val_binary_accuracy: 0.7350\n",
      "Epoch 32/200\n",
      "161/161 - 46s - loss: 0.2360 - binary_accuracy: 0.8947 - val_loss: 2.6269 - val_binary_accuracy: 0.7338\n",
      "Epoch 33/200\n",
      "161/161 - 46s - loss: 0.2317 - binary_accuracy: 0.9005 - val_loss: 2.6970 - val_binary_accuracy: 0.7396\n",
      "Epoch 34/200\n",
      "161/161 - 45s - loss: 0.2314 - binary_accuracy: 0.9009 - val_loss: 2.6548 - val_binary_accuracy: 0.7466\n",
      "Epoch 35/200\n",
      "161/161 - 46s - loss: 0.2198 - binary_accuracy: 0.9046 - val_loss: 2.6123 - val_binary_accuracy: 0.7215\n",
      "Epoch 36/200\n",
      "161/161 - 45s - loss: 0.2172 - binary_accuracy: 0.9054 - val_loss: 2.5308 - val_binary_accuracy: 0.7461\n",
      "Epoch 37/200\n",
      "161/161 - 45s - loss: 0.2213 - binary_accuracy: 0.9054 - val_loss: 2.9020 - val_binary_accuracy: 0.7373\n",
      "Epoch 38/200\n",
      "161/161 - 47s - loss: 0.2138 - binary_accuracy: 0.9097 - val_loss: 2.6536 - val_binary_accuracy: 0.7379\n",
      "Epoch 39/200\n",
      "161/161 - 45s - loss: 0.2131 - binary_accuracy: 0.9124 - val_loss: 2.7747 - val_binary_accuracy: 0.7414\n",
      "Epoch 40/200\n",
      "161/161 - 48s - loss: 0.2126 - binary_accuracy: 0.9074 - val_loss: 2.8834 - val_binary_accuracy: 0.7396\n",
      "Epoch 41/200\n",
      "161/161 - 48s - loss: 0.2077 - binary_accuracy: 0.9136 - val_loss: 2.8425 - val_binary_accuracy: 0.7420\n",
      "Epoch 42/200\n",
      "161/161 - 46s - loss: 0.2079 - binary_accuracy: 0.9044 - val_loss: 2.6344 - val_binary_accuracy: 0.7408\n",
      "Epoch 43/200\n",
      "161/161 - 37s - loss: 0.1957 - binary_accuracy: 0.9169 - val_loss: 2.7680 - val_binary_accuracy: 0.7332\n",
      "Epoch 44/200\n",
      "161/161 - 37s - loss: 0.1939 - binary_accuracy: 0.9167 - val_loss: 3.0802 - val_binary_accuracy: 0.7373\n",
      "Epoch 45/200\n",
      "161/161 - 38s - loss: 0.1896 - binary_accuracy: 0.9171 - val_loss: 3.1491 - val_binary_accuracy: 0.7291\n",
      "Epoch 46/200\n",
      "161/161 - 37s - loss: 0.1968 - binary_accuracy: 0.9153 - val_loss: 2.9338 - val_binary_accuracy: 0.7198\n",
      "Epoch 47/200\n",
      "161/161 - 37s - loss: 0.1954 - binary_accuracy: 0.9175 - val_loss: 3.0185 - val_binary_accuracy: 0.7408\n",
      "Epoch 48/200\n",
      "161/161 - 38s - loss: 0.1864 - binary_accuracy: 0.9225 - val_loss: 2.9433 - val_binary_accuracy: 0.7466\n",
      "Epoch 49/200\n",
      "161/161 - 38s - loss: 0.2003 - binary_accuracy: 0.9155 - val_loss: 3.0289 - val_binary_accuracy: 0.7315\n",
      "Epoch 50/200\n",
      "161/161 - 36s - loss: 0.1895 - binary_accuracy: 0.9231 - val_loss: 3.1047 - val_binary_accuracy: 0.7169\n",
      "Epoch 51/200\n",
      "161/161 - 38s - loss: 0.1902 - binary_accuracy: 0.9159 - val_loss: 2.9359 - val_binary_accuracy: 0.7093\n",
      "Epoch 52/200\n",
      "161/161 - 36s - loss: 0.1829 - binary_accuracy: 0.9249 - val_loss: 3.0397 - val_binary_accuracy: 0.7198\n",
      "Epoch 53/200\n",
      "161/161 - 36s - loss: 0.1844 - binary_accuracy: 0.9235 - val_loss: 3.0181 - val_binary_accuracy: 0.7157\n",
      "Epoch 54/200\n",
      "161/161 - 38s - loss: 0.1861 - binary_accuracy: 0.9220 - val_loss: 3.0150 - val_binary_accuracy: 0.7303\n",
      "Epoch 55/200\n",
      "161/161 - 40s - loss: 0.1783 - binary_accuracy: 0.9266 - val_loss: 3.1176 - val_binary_accuracy: 0.7268\n",
      "Epoch 56/200\n",
      "161/161 - 37s - loss: 0.1756 - binary_accuracy: 0.9223 - val_loss: 3.0348 - val_binary_accuracy: 0.7268\n",
      "Epoch 57/200\n",
      "161/161 - 37s - loss: 0.1791 - binary_accuracy: 0.9233 - val_loss: 3.0296 - val_binary_accuracy: 0.7157\n",
      "Epoch 58/200\n",
      "161/161 - 36s - loss: 0.1829 - binary_accuracy: 0.9280 - val_loss: 2.9009 - val_binary_accuracy: 0.7093\n",
      "Epoch 59/200\n",
      "161/161 - 36s - loss: 0.1766 - binary_accuracy: 0.9243 - val_loss: 3.5595 - val_binary_accuracy: 0.7093\n",
      "Epoch 60/200\n",
      "161/161 - 36s - loss: 0.1722 - binary_accuracy: 0.9276 - val_loss: 3.3274 - val_binary_accuracy: 0.7064\n",
      "Epoch 61/200\n",
      "161/161 - 36s - loss: 0.1707 - binary_accuracy: 0.9286 - val_loss: 3.0482 - val_binary_accuracy: 0.7140\n",
      "Epoch 62/200\n",
      "161/161 - 37s - loss: 0.1612 - binary_accuracy: 0.9323 - val_loss: 3.5195 - val_binary_accuracy: 0.7134\n",
      "Epoch 63/200\n",
      "161/161 - 36s - loss: 0.1648 - binary_accuracy: 0.9330 - val_loss: 3.2086 - val_binary_accuracy: 0.7192\n",
      "Epoch 64/200\n",
      "161/161 - 37s - loss: 0.1708 - binary_accuracy: 0.9278 - val_loss: 3.3093 - val_binary_accuracy: 0.6842\n",
      "Epoch 65/200\n",
      "161/161 - 36s - loss: 0.1554 - binary_accuracy: 0.9354 - val_loss: 3.3694 - val_binary_accuracy: 0.7011\n",
      "Epoch 66/200\n",
      "161/161 - 36s - loss: 0.1607 - binary_accuracy: 0.9330 - val_loss: 3.4407 - val_binary_accuracy: 0.7046\n",
      "Epoch 67/200\n",
      "161/161 - 36s - loss: 0.1662 - binary_accuracy: 0.9315 - val_loss: 3.0424 - val_binary_accuracy: 0.7029\n",
      "Epoch 68/200\n",
      "161/161 - 38s - loss: 0.1544 - binary_accuracy: 0.9364 - val_loss: 3.1203 - val_binary_accuracy: 0.7052\n",
      "Epoch 69/200\n",
      "161/161 - 37s - loss: 0.1552 - binary_accuracy: 0.9352 - val_loss: 3.0737 - val_binary_accuracy: 0.7064\n",
      "Epoch 70/200\n",
      "161/161 - 37s - loss: 0.1494 - binary_accuracy: 0.9406 - val_loss: 3.3658 - val_binary_accuracy: 0.7034\n",
      "Epoch 71/200\n"
     ]
    },
    {
     "name": "stdout",
     "output_type": "stream",
     "text": [
      "161/161 - 35s - loss: 0.1579 - binary_accuracy: 0.9340 - val_loss: 3.3866 - val_binary_accuracy: 0.7023\n",
      "Epoch 72/200\n",
      "161/161 - 36s - loss: 0.1592 - binary_accuracy: 0.9319 - val_loss: 3.3325 - val_binary_accuracy: 0.7128\n"
     ]
    }
   ],
   "source": [
    "input_padded = Input(shape=(X_train_padded.shape[1],),name=\"Padded input\")\n",
    "input_categorical = Input(shape=(X_train_categorical.shape[1],),name=\"Categorical input\")\n",
    "embedding = Embedding(input_dim=embedding_matrix.shape[0],output_dim=embedding_matrix.shape[1],input_length=max_length,embeddings_initializer=Constant(embedding_matrix),name=\"embedding\",trainable=False)(input_padded)\n",
    "conv_1 = Conv1D(32, kernel_size=3,padding=\"same\",name=\"1D-convolution\")(embedding)\n",
    "bn_1 = BatchNormalization(name=\"b.norm.\")(conv_1)\n",
    "drop_1 = Dropout(0.2,name=\"dropout1\")(bn_1)\n",
    "dense_em = Dense(embedding_matrix.shape[1],name=\"denseEM\",activation=\"relu\")(drop_1)\n",
    "drop_2 = Dropout(0.2,name=\"dropout2\")(dense_em)\n",
    "lstm_1 = Bidirectional(LSTM(64,return_sequences=True,dropout=0.1,recurrent_dropout=0.1,kernel_initializer='orthogonal',name='lstm1'))(drop_2)\n",
    "gru_1 = GRU(64,return_sequences=False,dropout=0.1,recurrent_dropout=0.1,kernel_initializer=\"orthogonal\",name=\"gru1\")(lstm_1)\n",
    "concatenate = Concatenate()([gru_1,input_categorical])\n",
    "bn_2 = BatchNormalization(name=\"b.norm.2\")(concatenate)\n",
    "dense_1 = Dense(64, name=\"dense64\",activation=\"relu\")(bn_2)\n",
    "drop_3 = Dropout(0.2,name=\"dropout3\")(dense_1)\n",
    "dense_2 = Dense(32, name=\"dense32\",activation=\"relu\")(drop_3)\n",
    "dense_3 = Dense(16, name=\"dense16\",activation=\"relu\")(dense_2)\n",
    "output = Dense(1, name=\"output\",activation=\"sigmoid\")(dense_3)\n",
    "early_stop = EarlyStopping(monitor='val_loss',patience=70,restore_best_weights=True)\n",
    "\n",
    "\n",
    "nn_model = Functional(inputs=[input_padded,input_categorical],outputs=output)\n",
    "nn_model.compile(loss='binary_crossentropy',optimizer='adam',metrics=['binary_accuracy'])\n",
    "nn_model_history = nn_model.fit([X_train_padded,X_train_categorical],y_train,validation_split=0.25,epochs=200,verbose=2,callbacks=[early_stop])"
   ]
  },
  {
   "cell_type": "code",
   "execution_count": 114,
   "id": "3f6083eb",
   "metadata": {},
   "outputs": [
    {
     "name": "stdout",
     "output_type": "stream",
     "text": [
      "TRAIN ACCURACY: 0.7613487082177784\n",
      "TEST ACCURACY: 0.7598425196850394\n"
     ]
    }
   ],
   "source": [
    "y_train_pred = nn_model.predict([X_train_padded,X_train_categorical])\n",
    "y_test_pred = nn_model.predict([X_test_padded,X_test_categorical])\n",
    "y_train_pred = np.where(y_train_pred.flatten()>0.50,1,0)\n",
    "y_test_pred = np.where(y_test_pred.flatten()>0.50,1,0)\n",
    "print(\"TRAIN ACCURACY: \"+str(accuracy_score(y_train,y_train_pred)))\n",
    "print(\"TEST ACCURACY: \"+str(accuracy_score(y_test,y_test_pred)))"
   ]
  },
  {
   "cell_type": "code",
   "execution_count": 115,
   "id": "9a55b932",
   "metadata": {},
   "outputs": [],
   "source": [
    "classifier.fit(train_vectors,train_df[\"target\"])\n",
    "submission_NN = pd.read_csv(\"sample_submission.csv\")\n",
    "submission_NN[\"target\"] = np.where(nn_model.predict([actual_padded,actual_categorical]).flatten()>0.5,1,0)\n",
    "submission_NN.to_csv(\"submission_final?.csv\",index=False)"
   ]
  },
  {
   "cell_type": "code",
   "execution_count": 721,
   "id": "1bdc1c8d",
   "metadata": {},
   "outputs": [],
   "source": [
    "#Neural network without padded\n",
    "#TRAIN ACCURACY: 0.7695627697504223\n",
    "#TEST ACCURACY: 0.7202276707530648"
   ]
  },
  {
   "cell_type": "code",
   "execution_count": 637,
   "id": "5743b2b2",
   "metadata": {},
   "outputs": [],
   "source": [
    "#Neural network with padded\n",
    "#TRAIN ACCURACY: 0.726215049727904\n",
    "#TEST ACCURACY: 0.7267950963222417"
   ]
  },
  {
   "cell_type": "code",
   "execution_count": 654,
   "id": "218e5e15",
   "metadata": {},
   "outputs": [],
   "source": [
    "#Neural network with padded and embedding\n",
    "#TRAIN ACCURACY: 0.7650591105273035\n",
    "#TEST ACCURACY: 0.7342381786339754"
   ]
  },
  {
   "cell_type": "code",
   "execution_count": null,
   "id": "67f842ed",
   "metadata": {},
   "outputs": [],
   "source": [
    "#Neural network with padded, embedding and dropout\n",
    "#TRAIN ACCURACY: 0.7382248076562207\n",
    "#TEST ACCURACY: 0.7469352014010507"
   ]
  },
  {
   "cell_type": "code",
   "execution_count": null,
   "id": "51ae908a",
   "metadata": {},
   "outputs": [],
   "source": [
    "#Neural network with padded, embedding and dropout using 90% of its power\n",
    "#TRAIN ACCURACY: 0.7534666472047876\n",
    "#TEST ACCURACY: 0.7637795275590551"
   ]
  },
  {
   "cell_type": "code",
   "execution_count": 748,
   "id": "a0a3fc01",
   "metadata": {},
   "outputs": [],
   "source": [
    "#Using a larger copy of union words\n",
    "#TRAIN ACCURACY: 0.8270325499927018\n",
    "#TEST ACCURACY: 0.7611548556430446"
   ]
  },
  {
   "cell_type": "code",
   "execution_count": null,
   "id": "b13a6e09",
   "metadata": {},
   "outputs": [],
   "source": [
    "#Using union instead of symetric difference\n",
    "#TRAIN ACCURACY: 0.784265070792585\n",
    "#TEST ACCURACY: 0.7506561679790026"
   ]
  },
  {
   "cell_type": "code",
   "execution_count": 127,
   "id": "278a26b2",
   "metadata": {},
   "outputs": [
    {
     "data": {
      "image/png": "[encoded data removed]",
      "text/plain": [
       "<IPython.core.display.Image object>"
      ]
     },
     "execution_count": 127,
     "metadata": {},
     "output_type": "execute_result"
    }
   ],
   "source": [
    "plot_model(nn_model,show_shapes=True,to_file=\"model.png\")"
   ]
  },
  {
   "cell_type": "code",
   "execution_count": 88,
   "id": "591a1287",
   "metadata": {},
   "outputs": [
    {
     "data": {
      "image/png": "[encoded data removed]",
      "text/plain": [
       "<Figure size 432x288 with 1 Axes>"
      ]
     },
     "metadata": {
      "needs_background": "light"
     },
     "output_type": "display_data"
    }
   ],
   "source": [
    "plot_loss(nn_model_history.history['loss'],nn_model_history.history['val_loss'])"
   ]
  },
  {
   "cell_type": "code",
   "execution_count": 89,
   "id": "26bff21b",
   "metadata": {},
   "outputs": [
    {
     "data": {
      "image/png": "[encoded data removed]",
      "text/plain": [
       "<Figure size 432x288 with 1 Axes>"
      ]
     },
     "metadata": {
      "needs_background": "light"
     },
     "output_type": "display_data"
    }
   ],
   "source": [
    "plot_loss(nn_model_history.history['binary_accuracy'],nn_model_history.history['val_binary_accuracy'])"
   ]
  },
  {
   "cell_type": "code",
   "execution_count": null,
   "id": "2b3f935c",
   "metadata": {},
   "outputs": [],
   "source": []
  },
  {
   "cell_type": "code",
   "execution_count": null,
   "id": "98e274cc",
   "metadata": {},
   "outputs": [],
   "source": []
  }
 ],
 "metadata": {
  "kernelspec": {
   "display_name": "Python 3 (ipykernel)",
   "language": "python",
   "name": "python3"
  },
  "language_info": {
   "codemirror_mode": {
    "name": "ipython",
    "version": 3
   },
   "file_extension": ".py",
   "mimetype": "text/x-python",
   "name": "python",
   "nbconvert_exporter": "python",
   "pygments_lexer": "ipython3",
   "version": "3.9.9"
  }
 },
 "nbformat": 4,
 "nbformat_minor": 5
}
